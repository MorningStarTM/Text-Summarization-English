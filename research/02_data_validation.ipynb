{
 "cells": [
  {
   "cell_type": "code",
   "execution_count": 1,
   "metadata": {},
   "outputs": [
    {
     "data": {
      "text/plain": [
       "'e:\\\\github_clone\\\\Text-Summarization-English\\\\research'"
      ]
     },
     "execution_count": 1,
     "metadata": {},
     "output_type": "execute_result"
    }
   ],
   "source": [
    "%pwd"
   ]
  },
  {
   "cell_type": "code",
   "execution_count": 2,
   "metadata": {},
   "outputs": [],
   "source": [
    "import os\n",
    "os.chdir('../')"
   ]
  },
  {
   "cell_type": "code",
   "execution_count": 3,
   "metadata": {},
   "outputs": [
    {
     "data": {
      "text/plain": [
       "'e:\\\\github_clone\\\\Text-Summarization-English'"
      ]
     },
     "execution_count": 3,
     "metadata": {},
     "output_type": "execute_result"
    }
   ],
   "source": [
    "%pwd"
   ]
  },
  {
   "cell_type": "code",
   "execution_count": 17,
   "metadata": {},
   "outputs": [],
   "source": [
    "from dataclasses import dataclass\n",
    "from pathlib import Path\n",
    "\n",
    "@dataclass(frozen=True)\n",
    "class DataValidationConfig:\n",
    "    root_fir: Path\n",
    "    STATUS_FILE: str\n",
    "    ALL_REQUIRED_FILE: list"
   ]
  },
  {
   "cell_type": "code",
   "execution_count": 18,
   "metadata": {},
   "outputs": [],
   "source": [
    "from textSummerizerEnglish.constants import *\n",
    "from textSummerizerEnglish.utils.common import read_yaml, create_directories"
   ]
  },
  {
   "cell_type": "code",
   "execution_count": 19,
   "metadata": {},
   "outputs": [],
   "source": [
    "class ConfigurationManager:\n",
    "    def __init__(\n",
    "            self, \n",
    "            config_filepath = CONFIG_FILE_PATH,\n",
    "            params_filepath = PARAMS_FILE_PATH):\n",
    "        self.config = read_yaml(config_filepath)\n",
    "        self.params = read_yaml(params_filepath)\n",
    "        \n",
    "        create_directories([self.config.artifacts_root])\n",
    "\n",
    "    def get_data_validation_config(self) -> DataValidationConfig:\n",
    "        config = self.config.data_validation\n",
    "\n",
    "        create_directories([config.root_dir])\n",
    "\n",
    "        data_validation_config = DataValidationConfig(\n",
    "            root_fir=config.root_dir,\n",
    "            STATUS_FILE=config.STATUS_FILE,\n",
    "            ALL_REQUIRED_FILE=config.ALL_REQUIRED_FILE\n",
    "        )\n",
    "        return data_validation_config"
   ]
  },
  {
   "cell_type": "code",
   "execution_count": 12,
   "metadata": {},
   "outputs": [],
   "source": [
    "from textSummerizerEnglish.logging import logger"
   ]
  },
  {
   "cell_type": "code",
   "execution_count": 13,
   "metadata": {},
   "outputs": [],
   "source": [
    "class DataValidation:\n",
    "    def __init__(self, config=DataValidationConfig):\n",
    "        self.config = config\n",
    "\n",
    "    \n",
    "    def valid_all_file_exist(self) -> bool:\n",
    "        try:\n",
    "            validation_status = None\n",
    "            all_files = os.listdir(os.path.join(\"artifacts\", \"data_ingestion\"))\n",
    "\n",
    "            for file in all_files:\n",
    "                if file not in self.config.ALL_REQUIRED_FILES:\n",
    "                    validation_status = False\n",
    "                    with open(self.config.STATUS_FILE, \"w\") as f:\n",
    "                        f.write(f\"validation status: {validation_status}\")\n",
    "\n",
    "                else:\n",
    "                    validation_status = True\n",
    "                    with open(self.config.STATUS_FILE, \"w\") as f:\n",
    "                        f.write(f\"validation status: {validation_status}\")\n",
    "                        \n",
    "            return validation_status\n",
    "\n",
    "        \n",
    "        except Exception as e:\n",
    "            logger.exception(e)\n",
    "            raise e"
   ]
  },
  {
   "cell_type": "code",
   "execution_count": 15,
   "metadata": {},
   "outputs": [
    {
     "name": "stdout",
     "output_type": "stream",
     "text": [
      "[2023-12-04 16:11:52,439: INFO: yaml file : config\\config.yaml loaded successfully]\n",
      "[2023-12-04 16:11:52,441: INFO: yaml file : params.yaml loaded successfully]\n",
      "[2023-12-04 16:11:52,441: INFO: Created directory at artifacts]\n",
      "[2023-12-04 16:11:52,442: INFO: Created directory at artifacts/data_validation]\n"
     ]
    },
    {
     "ename": "TypeError",
     "evalue": "__init__() got an unexpected keyword argument 'root_dir'",
     "output_type": "error",
     "traceback": [
      "\u001b[1;31m---------------------------------------------------------------------------\u001b[0m",
      "\u001b[1;31mTypeError\u001b[0m                                 Traceback (most recent call last)",
      "\u001b[1;32me:\\github_clone\\Text-Summarization-English\\research\\02_data_validation.ipynb Cell 9\u001b[0m line \u001b[0;36m8\n\u001b[0;32m      <a href='vscode-notebook-cell:/e%3A/github_clone/Text-Summarization-English/research/02_data_validation.ipynb#X11sZmlsZQ%3D%3D?line=4'>5</a>\u001b[0m     \u001b[39m#data_validation = DataValidation(config=data_validation_config)\u001b[39;00m\n\u001b[0;32m      <a href='vscode-notebook-cell:/e%3A/github_clone/Text-Summarization-English/research/02_data_validation.ipynb#X11sZmlsZQ%3D%3D?line=5'>6</a>\u001b[0m     \u001b[39m#data_validation.valid_all_file_exist()\u001b[39;00m\n\u001b[0;32m      <a href='vscode-notebook-cell:/e%3A/github_clone/Text-Summarization-English/research/02_data_validation.ipynb#X11sZmlsZQ%3D%3D?line=6'>7</a>\u001b[0m \u001b[39mexcept\u001b[39;00m \u001b[39mException\u001b[39;00m \u001b[39mas\u001b[39;00m e:\n\u001b[1;32m----> <a href='vscode-notebook-cell:/e%3A/github_clone/Text-Summarization-English/research/02_data_validation.ipynb#X11sZmlsZQ%3D%3D?line=7'>8</a>\u001b[0m     \u001b[39mraise\u001b[39;00m e\n",
      "\u001b[1;32me:\\github_clone\\Text-Summarization-English\\research\\02_data_validation.ipynb Cell 9\u001b[0m line \u001b[0;36m3\n\u001b[0;32m      <a href='vscode-notebook-cell:/e%3A/github_clone/Text-Summarization-English/research/02_data_validation.ipynb#X11sZmlsZQ%3D%3D?line=0'>1</a>\u001b[0m \u001b[39mtry\u001b[39;00m:\n\u001b[0;32m      <a href='vscode-notebook-cell:/e%3A/github_clone/Text-Summarization-English/research/02_data_validation.ipynb#X11sZmlsZQ%3D%3D?line=1'>2</a>\u001b[0m     config \u001b[39m=\u001b[39m ConfigurationManager()\n\u001b[1;32m----> <a href='vscode-notebook-cell:/e%3A/github_clone/Text-Summarization-English/research/02_data_validation.ipynb#X11sZmlsZQ%3D%3D?line=2'>3</a>\u001b[0m     data_validation_config \u001b[39m=\u001b[39m config\u001b[39m.\u001b[39;49mget_data_validation_config()\n\u001b[0;32m      <a href='vscode-notebook-cell:/e%3A/github_clone/Text-Summarization-English/research/02_data_validation.ipynb#X11sZmlsZQ%3D%3D?line=3'>4</a>\u001b[0m     \u001b[39mprint\u001b[39m(data_validation_config)\n\u001b[0;32m      <a href='vscode-notebook-cell:/e%3A/github_clone/Text-Summarization-English/research/02_data_validation.ipynb#X11sZmlsZQ%3D%3D?line=4'>5</a>\u001b[0m     \u001b[39m#data_validation = DataValidation(config=data_validation_config)\u001b[39;00m\n\u001b[0;32m      <a href='vscode-notebook-cell:/e%3A/github_clone/Text-Summarization-English/research/02_data_validation.ipynb#X11sZmlsZQ%3D%3D?line=5'>6</a>\u001b[0m     \u001b[39m#data_validation.valid_all_file_exist()\u001b[39;00m\n",
      "\u001b[1;32me:\\github_clone\\Text-Summarization-English\\research\\02_data_validation.ipynb Cell 9\u001b[0m line \u001b[0;36m1\n\u001b[0;32m     <a href='vscode-notebook-cell:/e%3A/github_clone/Text-Summarization-English/research/02_data_validation.ipynb#X11sZmlsZQ%3D%3D?line=11'>12</a>\u001b[0m config \u001b[39m=\u001b[39m \u001b[39mself\u001b[39m\u001b[39m.\u001b[39mconfig\u001b[39m.\u001b[39mdata_validation\n\u001b[0;32m     <a href='vscode-notebook-cell:/e%3A/github_clone/Text-Summarization-English/research/02_data_validation.ipynb#X11sZmlsZQ%3D%3D?line=13'>14</a>\u001b[0m create_directories([config\u001b[39m.\u001b[39mroot_dir])\n\u001b[1;32m---> <a href='vscode-notebook-cell:/e%3A/github_clone/Text-Summarization-English/research/02_data_validation.ipynb#X11sZmlsZQ%3D%3D?line=15'>16</a>\u001b[0m data_validation_config \u001b[39m=\u001b[39m DataValidationConfig(\n\u001b[0;32m     <a href='vscode-notebook-cell:/e%3A/github_clone/Text-Summarization-English/research/02_data_validation.ipynb#X11sZmlsZQ%3D%3D?line=16'>17</a>\u001b[0m     root_dir\u001b[39m=\u001b[39;49mconfig\u001b[39m.\u001b[39;49mroot_dir,\n\u001b[0;32m     <a href='vscode-notebook-cell:/e%3A/github_clone/Text-Summarization-English/research/02_data_validation.ipynb#X11sZmlsZQ%3D%3D?line=17'>18</a>\u001b[0m     STATUS_FILE\u001b[39m=\u001b[39;49mconfig\u001b[39m.\u001b[39;49mSTATUS_FILE,\n\u001b[0;32m     <a href='vscode-notebook-cell:/e%3A/github_clone/Text-Summarization-English/research/02_data_validation.ipynb#X11sZmlsZQ%3D%3D?line=18'>19</a>\u001b[0m     ALL_REQUIRED_FILES\u001b[39m=\u001b[39;49mconfig\u001b[39m.\u001b[39;49mALL_REQUIRED_FILES\n\u001b[0;32m     <a href='vscode-notebook-cell:/e%3A/github_clone/Text-Summarization-English/research/02_data_validation.ipynb#X11sZmlsZQ%3D%3D?line=19'>20</a>\u001b[0m )\n\u001b[0;32m     <a href='vscode-notebook-cell:/e%3A/github_clone/Text-Summarization-English/research/02_data_validation.ipynb#X11sZmlsZQ%3D%3D?line=20'>21</a>\u001b[0m \u001b[39mreturn\u001b[39;00m data_validation_config\n",
      "\u001b[1;31mTypeError\u001b[0m: __init__() got an unexpected keyword argument 'root_dir'"
     ]
    }
   ],
   "source": [
    "try:\n",
    "    config = ConfigurationManager()\n",
    "    data_validation_config = config.get_data_validation_config()\n",
    "    print(data_validation_config)\n",
    "    #data_validation = DataValidation(config=data_validation_config)\n",
    "    #data_validation.valid_all_file_exist()\n",
    "except Exception as e:\n",
    "    raise e"
   ]
  },
  {
   "cell_type": "code",
   "execution_count": null,
   "metadata": {},
   "outputs": [],
   "source": []
  }
 ],
 "metadata": {
  "kernelspec": {
   "display_name": "textS",
   "language": "python",
   "name": "python3"
  },
  "language_info": {
   "codemirror_mode": {
    "name": "ipython",
    "version": 3
   },
   "file_extension": ".py",
   "mimetype": "text/x-python",
   "name": "python",
   "nbconvert_exporter": "python",
   "pygments_lexer": "ipython3",
   "version": "3.8.18"
  }
 },
 "nbformat": 4,
 "nbformat_minor": 2
}
