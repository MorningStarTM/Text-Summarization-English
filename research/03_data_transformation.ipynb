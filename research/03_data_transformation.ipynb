{
 "cells": [
  {
   "cell_type": "code",
   "execution_count": 1,
   "metadata": {},
   "outputs": [
    {
     "data": {
      "text/plain": [
       "'e:\\\\github_clone\\\\Text-Summarization-English\\\\research'"
      ]
     },
     "execution_count": 1,
     "metadata": {},
     "output_type": "execute_result"
    }
   ],
   "source": [
    "%pwd"
   ]
  },
  {
   "cell_type": "code",
   "execution_count": 2,
   "metadata": {},
   "outputs": [],
   "source": [
    "import os\n",
    "os.chdir('../')"
   ]
  },
  {
   "cell_type": "code",
   "execution_count": 11,
   "metadata": {},
   "outputs": [
    {
     "data": {
      "text/plain": [
       "'e:\\\\github_clone\\\\Text-Summarization-English'"
      ]
     },
     "execution_count": 11,
     "metadata": {},
     "output_type": "execute_result"
    }
   ],
   "source": [
    "%pwd"
   ]
  },
  {
   "cell_type": "code",
   "execution_count": 12,
   "metadata": {},
   "outputs": [],
   "source": [
    "from dataclasses import dataclass\n",
    "from pathlib import Path\n",
    "\n",
    "@dataclass(frozen=True)\n",
    "class DataTransformationconfig:\n",
    "    root_dir: Path\n",
    "    data_path: Path\n",
    "    tokenizer_name: Path"
   ]
  },
  {
   "cell_type": "code",
   "execution_count": 13,
   "metadata": {},
   "outputs": [],
   "source": [
    "from textSummerizerEnglish.constants import *\n",
    "from textSummerizerEnglish.utils.common import read_yaml, create_directories"
   ]
  },
  {
   "cell_type": "code",
   "execution_count": 14,
   "metadata": {},
   "outputs": [],
   "source": [
    "class ConfigurationManager:\n",
    "    def __init__(\n",
    "            self, \n",
    "            config_filepath = CONFIG_FILE_PATH,\n",
    "            params_filepath = PARAMS_FILE_PATH):\n",
    "        self.config = read_yaml(config_filepath)\n",
    "        self.params = read_yaml(params_filepath)\n",
    "        \n",
    "        create_directories([self.config.artifacts_root])\n",
    "\n",
    "    def get_data_transformation_config(self) -> DataTransformationconfig:\n",
    "        config = self.config.data_transformation\n",
    "\n",
    "        data_transformation_config = DataTransformationconfig(\n",
    "            root_dir=config.root_dir,\n",
    "            data_path=config.data_path,\n",
    "            tokenizer_name=config.tokenizer_name\n",
    "        )\n",
    "        return data_transformation_config"
   ]
  },
  {
   "cell_type": "code",
   "execution_count": 15,
   "metadata": {},
   "outputs": [],
   "source": [
    "from textSummerizerEnglish.logging import logger\n",
    "from transformers import AutoTokenizer\n",
    "from datasets import load_dataset, Dataset\n",
    "import pandas as pd"
   ]
  },
  {
   "cell_type": "code",
   "execution_count": 18,
   "metadata": {},
   "outputs": [],
   "source": [
    "class DataTransformation:\n",
    "    def __init__(self, config:DataTransformationconfig):\n",
    "        self.config = config\n",
    "        self.tokenizer = AutoTokenizer.from_pretrained(config.tokenizer_name)\n",
    "\n",
    "    def convert_examples_to_features(self, example_batch):\n",
    "        input_encodings = self.tokenizer(example_batch['ctext'] , max_length = 1024, truncation = True )\n",
    "\n",
    "        with self.tokenizer.as_target_tokenizer():\n",
    "            target_encodings = self.tokenizer(example_batch['text'], max_length = 128, truncation = True )\n",
    "\n",
    "        return {\n",
    "            'input_ids' : input_encodings['input_ids'],\n",
    "            'attention_mask': input_encodings['attention_mask'],\n",
    "            'labels': target_encodings['input_ids']\n",
    "        }\n",
    "    \n",
    "    def convert(self):\n",
    "        train_df = pd.read_csv(os.path.join(self.config.data_path, \"train\", \"train.csv\"),encoding=\"latin-1\")\n",
    "        train_df = train_df.dropna()\n",
    "        train_data = Dataset.from_pandas(train_df)\n",
    "\n",
    "        test_df = pd.read_csv(os.path.join(self.config.data_path, \"test\", \"test.csv\"),encoding=\"latin-1\")\n",
    "        test_df = test_df.dropna()\n",
    "        test_data = Dataset.from_pandas(test_df)\n",
    "\n",
    "        val_df = pd.read_csv(os.path.join(self.config.data_path, \"val\", \"val.csv\"),encoding=\"latin-1\")\n",
    "        val_df = val_df.dropna()\n",
    "        val_data = Dataset.from_pandas(val_df)\n",
    "\n",
    "\n",
    "        train_pt = train_data.map(self.convert_examples_to_features, batched = True)\n",
    "        test_pt = test_data.map(self.convert_examples_to_features, batched = True)\n",
    "        val_pt = val_data.map(self.convert_examples_to_features, batched = True)\n",
    "\n",
    "        train_pt.save_to_disk(os.path.join(self.config.root_dir, \"new_summary\", \"train\"))\n",
    "        test_pt.save_to_disk(os.path.join(self.config.root_dir, \"new_summary\", \"test\"))\n",
    "        val_pt.save_to_disk(os.path.join(self.config.root_dir, \"new_summary\", \"val\"))"
   ]
  },
  {
   "cell_type": "code",
   "execution_count": 19,
   "metadata": {},
   "outputs": [
    {
     "name": "stdout",
     "output_type": "stream",
     "text": [
      "[2023-12-04 17:10:27,825: INFO: yaml file : config\\config.yaml loaded successfully]\n",
      "[2023-12-04 17:10:27,827: INFO: yaml file : params.yaml loaded successfully]\n",
      "[2023-12-04 17:10:27,828: INFO: Created directory at artifacts]\n"
     ]
    },
    {
     "name": "stderr",
     "output_type": "stream",
     "text": [
      "Map:   0%|          | 0/2865 [00:00<?, ? examples/s]c:\\Users\\Ernest\\.conda\\envs\\textS\\lib\\site-packages\\transformers\\tokenization_utils_base.py:3864: UserWarning: `as_target_tokenizer` is deprecated and will be removed in v5 of Transformers. You can tokenize your labels by using the argument `text_target` of the regular `__call__` method (either in the same call as your input texts if you use the same keyword arguments, or in a separate call.\n",
      "  warnings.warn(\n",
      "Map: 100%|██████████| 2865/2865 [00:01<00:00, 1581.53 examples/s]\n",
      "Map: 100%|██████████| 768/768 [00:00<00:00, 1714.44 examples/s]\n",
      "Map: 100%|██████████| 763/763 [00:00<00:00, 1716.03 examples/s]\n",
      "Saving the dataset (1/1 shards): 100%|██████████| 2865/2865 [00:00<00:00, 238719.87 examples/s]\n",
      "Saving the dataset (1/1 shards): 100%|██████████| 768/768 [00:00<00:00, 109711.03 examples/s]\n",
      "Saving the dataset (1/1 shards): 100%|██████████| 763/763 [00:00<00:00, 127347.95 examples/s]\n"
     ]
    }
   ],
   "source": [
    "try:\n",
    "    config = ConfigurationManager()\n",
    "    data_transformation_config = config.get_data_transformation_config()\n",
    "    data_transformation = DataTransformation(config=data_transformation_config)\n",
    "    data_transformation.convert()\n",
    "except Exception as e:\n",
    "    raise e"
   ]
  },
  {
   "cell_type": "code",
   "execution_count": null,
   "metadata": {},
   "outputs": [],
   "source": []
  }
 ],
 "metadata": {
  "kernelspec": {
   "display_name": "textS",
   "language": "python",
   "name": "python3"
  },
  "language_info": {
   "codemirror_mode": {
    "name": "ipython",
    "version": 3
   },
   "file_extension": ".py",
   "mimetype": "text/x-python",
   "name": "python",
   "nbconvert_exporter": "python",
   "pygments_lexer": "ipython3",
   "version": "3.8.18"
  }
 },
 "nbformat": 4,
 "nbformat_minor": 2
}
